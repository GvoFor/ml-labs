{
 "cells": [
  {
   "cell_type": "markdown",
   "id": "8789a01d",
   "metadata": {},
   "source": [
    "# ML Lab5\n",
    "#### Author: Pumnia Mykhailo, KM-22\n",
    "---"
   ]
  },
  {
   "cell_type": "markdown",
   "id": "8246727e",
   "metadata": {},
   "source": [
    "1. Open and read the provided data file."
   ]
  },
  {
   "cell_type": "code",
   "execution_count": 15,
   "id": "c230ad19",
   "metadata": {},
   "outputs": [
    {
     "data": {
      "text/html": [
       "<div>\n",
       "<style scoped>\n",
       "    .dataframe tbody tr th:only-of-type {\n",
       "        vertical-align: middle;\n",
       "    }\n",
       "\n",
       "    .dataframe tbody tr th {\n",
       "        vertical-align: top;\n",
       "    }\n",
       "\n",
       "    .dataframe thead th {\n",
       "        text-align: right;\n",
       "    }\n",
       "</style>\n",
       "<table border=\"1\" class=\"dataframe\">\n",
       "  <thead>\n",
       "    <tr style=\"text-align: right;\">\n",
       "      <th></th>\n",
       "      <th>Cement (component 1)(kg in a m^3 mixture)</th>\n",
       "      <th>Blast Furnace Slag (component 2)(kg in a m^3 mixture)</th>\n",
       "      <th>Fly Ash (component 3)(kg in a m^3 mixture)</th>\n",
       "      <th>Water  (component 4)(kg in a m^3 mixture)</th>\n",
       "      <th>Superplasticizer (component 5)(kg in a m^3 mixture)</th>\n",
       "      <th>Coarse Aggregate  (component 6)(kg in a m^3 mixture)</th>\n",
       "      <th>Fine Aggregate (component 7)(kg in a m^3 mixture)</th>\n",
       "      <th>Age (day)</th>\n",
       "      <th>Concrete compressive strength(MPa, megapascals)</th>\n",
       "    </tr>\n",
       "  </thead>\n",
       "  <tbody>\n",
       "    <tr>\n",
       "      <th>0</th>\n",
       "      <td>540.0</td>\n",
       "      <td>0.0</td>\n",
       "      <td>0.0</td>\n",
       "      <td>162.0</td>\n",
       "      <td>2.5</td>\n",
       "      <td>1040.0</td>\n",
       "      <td>676.0</td>\n",
       "      <td>28</td>\n",
       "      <td>79.99</td>\n",
       "    </tr>\n",
       "    <tr>\n",
       "      <th>1</th>\n",
       "      <td>540.0</td>\n",
       "      <td>0.0</td>\n",
       "      <td>0.0</td>\n",
       "      <td>162.0</td>\n",
       "      <td>2.5</td>\n",
       "      <td>1055.0</td>\n",
       "      <td>676.0</td>\n",
       "      <td>28</td>\n",
       "      <td>61.89</td>\n",
       "    </tr>\n",
       "    <tr>\n",
       "      <th>2</th>\n",
       "      <td>332.5</td>\n",
       "      <td>142.5</td>\n",
       "      <td>0.0</td>\n",
       "      <td>228.0</td>\n",
       "      <td>0.0</td>\n",
       "      <td>932.0</td>\n",
       "      <td>594.0</td>\n",
       "      <td>270</td>\n",
       "      <td>40.27</td>\n",
       "    </tr>\n",
       "    <tr>\n",
       "      <th>3</th>\n",
       "      <td>332.5</td>\n",
       "      <td>142.5</td>\n",
       "      <td>0.0</td>\n",
       "      <td>228.0</td>\n",
       "      <td>0.0</td>\n",
       "      <td>932.0</td>\n",
       "      <td>594.0</td>\n",
       "      <td>365</td>\n",
       "      <td>41.05</td>\n",
       "    </tr>\n",
       "    <tr>\n",
       "      <th>4</th>\n",
       "      <td>198.6</td>\n",
       "      <td>132.4</td>\n",
       "      <td>0.0</td>\n",
       "      <td>192.0</td>\n",
       "      <td>0.0</td>\n",
       "      <td>978.4</td>\n",
       "      <td>825.5</td>\n",
       "      <td>360</td>\n",
       "      <td>44.30</td>\n",
       "    </tr>\n",
       "  </tbody>\n",
       "</table>\n",
       "</div>"
      ],
      "text/plain": [
       "   Cement (component 1)(kg in a m^3 mixture)  \\\n",
       "0                                      540.0   \n",
       "1                                      540.0   \n",
       "2                                      332.5   \n",
       "3                                      332.5   \n",
       "4                                      198.6   \n",
       "\n",
       "   Blast Furnace Slag (component 2)(kg in a m^3 mixture)  \\\n",
       "0                                                0.0       \n",
       "1                                                0.0       \n",
       "2                                              142.5       \n",
       "3                                              142.5       \n",
       "4                                              132.4       \n",
       "\n",
       "   Fly Ash (component 3)(kg in a m^3 mixture)  \\\n",
       "0                                         0.0   \n",
       "1                                         0.0   \n",
       "2                                         0.0   \n",
       "3                                         0.0   \n",
       "4                                         0.0   \n",
       "\n",
       "   Water  (component 4)(kg in a m^3 mixture)  \\\n",
       "0                                      162.0   \n",
       "1                                      162.0   \n",
       "2                                      228.0   \n",
       "3                                      228.0   \n",
       "4                                      192.0   \n",
       "\n",
       "   Superplasticizer (component 5)(kg in a m^3 mixture)  \\\n",
       "0                                                2.5     \n",
       "1                                                2.5     \n",
       "2                                                0.0     \n",
       "3                                                0.0     \n",
       "4                                                0.0     \n",
       "\n",
       "   Coarse Aggregate  (component 6)(kg in a m^3 mixture)  \\\n",
       "0                                             1040.0      \n",
       "1                                             1055.0      \n",
       "2                                              932.0      \n",
       "3                                              932.0      \n",
       "4                                              978.4      \n",
       "\n",
       "   Fine Aggregate (component 7)(kg in a m^3 mixture)  Age (day)  \\\n",
       "0                                              676.0         28   \n",
       "1                                              676.0         28   \n",
       "2                                              594.0        270   \n",
       "3                                              594.0        365   \n",
       "4                                              825.5        360   \n",
       "\n",
       "   Concrete compressive strength(MPa, megapascals)   \n",
       "0                                             79.99  \n",
       "1                                             61.89  \n",
       "2                                             40.27  \n",
       "3                                             41.05  \n",
       "4                                             44.30  "
      ]
     },
     "execution_count": 15,
     "metadata": {},
     "output_type": "execute_result"
    }
   ],
   "source": [
    "import pandas as pd\n",
    "\n",
    "data = pd.read_csv('./ЛР5-пгр1.csv', delimiter=';', decimal=',')\n",
    "\n",
    "data.head(5)"
   ]
  },
  {
   "cell_type": "markdown",
   "id": "431b5c3f",
   "metadata": {},
   "source": [
    "2. Determine and display the number of records."
   ]
  },
  {
   "cell_type": "code",
   "execution_count": 16,
   "id": "d1615b3c",
   "metadata": {},
   "outputs": [
    {
     "name": "stdout",
     "output_type": "stream",
     "text": [
      "Records: 1030, Fields: 9\n"
     ]
    }
   ],
   "source": [
    "records_n, fields_n = data.shape\n",
    "print(f'Records: {records_n}, Fields: {fields_n}')"
   ]
  },
  {
   "cell_type": "markdown",
   "id": "e9b547b1",
   "metadata": {},
   "source": [
    "3. Remove the Concrete compressive strength attribute."
   ]
  },
  {
   "cell_type": "code",
   "execution_count": 17,
   "id": "9659d56f",
   "metadata": {},
   "outputs": [],
   "source": [
    "# Preproccess columns\n",
    "data.columns = data.columns.str.replace(r\"\\s*\\(.*$\", \"\", regex=True)"
   ]
  },
  {
   "cell_type": "code",
   "execution_count": 18,
   "id": "edaf59c2",
   "metadata": {},
   "outputs": [],
   "source": [
    "data.drop(columns=['Concrete compressive strength'], inplace=True)"
   ]
  },
  {
   "cell_type": "markdown",
   "id": "f269406d",
   "metadata": {},
   "source": [
    "4. Display the remaining attributes."
   ]
  },
  {
   "cell_type": "code",
   "execution_count": 19,
   "id": "749209f0",
   "metadata": {},
   "outputs": [
    {
     "name": "stdout",
     "output_type": "stream",
     "text": [
      "['Cement', 'Blast Furnace Slag', 'Fly Ash', 'Water', 'Superplasticizer', 'Coarse Aggregate', 'Fine Aggregate', 'Age']\n"
     ]
    }
   ],
   "source": [
    "print(data.columns.to_list())"
   ]
  },
  {
   "cell_type": "markdown",
   "id": "e4d68cdf",
   "metadata": {},
   "source": [
    "5. Using the KMeans function of the scikit-learn library, perform the partitioning of the data set into clusters with random initial initialization and display the coordinates of the cluster centers. Determine the optimal number of clusters based on the initial data set using three different methods:\n",
    "  1) elbow method;\n",
    "  2) average silhouette method;\n",
    "  3) prediction strength method (see section 9.2.3 Determining the Number of Clusters of Andriy Burkov. The Hundred-Page Machine Learning Book).\n",
    "\n",
    "Compare the results obtained and explain which method gave the best result and why (in your opinion)."
   ]
  },
  {
   "cell_type": "code",
   "execution_count": 20,
   "id": "891b4776",
   "metadata": {},
   "outputs": [],
   "source": [
    "from sklearn.cluster import KMeans, AgglomerativeClustering\n",
    "from sklearn.metrics import silhouette_score\n",
    "from sklearn.model_selection import train_test_split\n",
    "import matplotlib.pyplot as plt\n",
    "import numpy as np\n",
    "\n",
    "RANDOM_STATE = 41\n",
    "K = list(range(1, 21))"
   ]
  },
  {
   "cell_type": "code",
   "execution_count": 21,
   "id": "2982c3ac",
   "metadata": {},
   "outputs": [],
   "source": [
    "# Elbow method\n",
    "inertia = []\n",
    "for k in K:\n",
    "    kmeans = KMeans(n_clusters=k, init='random', random_state=RANDOM_STATE)\n",
    "    kmeans.fit(data)\n",
    "    inertia.append(kmeans.inertia_)"
   ]
  },
  {
   "cell_type": "code",
   "execution_count": 22,
   "id": "f043489d",
   "metadata": {},
   "outputs": [],
   "source": [
    "# Average silhouette method\n",
    "silhouette_scores = []\n",
    "for k in K[1:]:\n",
    "    kmeans = KMeans(n_clusters=k, init='random', random_state=RANDOM_STATE)\n",
    "    labels = kmeans.fit_predict(data)\n",
    "    silhouette_scores.append(silhouette_score(data, labels))"
   ]
  },
  {
   "cell_type": "code",
   "execution_count": 23,
   "id": "f662679d",
   "metadata": {},
   "outputs": [],
   "source": [
    "# Prediction strength method\n",
    "strengths = []\n",
    "\n",
    "train_data, test_data = train_test_split(data, test_size=0.5, random_state=RANDOM_STATE)\n",
    "\n",
    "for k in K:\n",
    "  kmeans_train = KMeans(n_clusters=k, init='random', random_state=RANDOM_STATE).fit(train_data)\n",
    "  kmeans_test = KMeans(n_clusters=k, init='random', random_state=RANDOM_STATE).fit(test_data)\n",
    "  \n",
    "  A = kmeans_train.predict(test_data)\n",
    "  Aj = kmeans_test.predict(test_data)\n",
    "\n",
    "  D = np.equal.outer(A, A).astype(int)\n",
    "\n",
    "  ps_scores = []\n",
    "  for j in range(k):\n",
    "    n = np.sum(Aj == j)\n",
    "\n",
    "    idx = np.where(Aj == j)[0]\n",
    "    s = D[np.ix_(idx, idx)].sum()\n",
    "    \n",
    "    ps = s / (n * (n - 1))\n",
    "    ps_scores.append(ps)\n",
    "\n",
    "  ps_score = min(ps_scores)\n",
    "\n",
    "  strengths.append(ps_score)\n"
   ]
  },
  {
   "cell_type": "code",
   "execution_count": 24,
   "id": "95c87ed9",
   "metadata": {},
   "outputs": [
    {
     "data": {
      "image/png": "[encoded data removed]",
      "text/plain": [
       "<Figure size 1800x500 with 3 Axes>"
      ]
     },
     "metadata": {},
     "output_type": "display_data"
    }
   ],
   "source": [
    "plt.figure(figsize=(18, 5))\n",
    "\n",
    "plt.subplot(1, 3, 1)\n",
    "plt.plot(K, inertia, 'bo-')\n",
    "plt.xticks(K[1::2])\n",
    "plt.xlabel('k')\n",
    "plt.ylabel('Inertia')\n",
    "plt.title('Elbow Method')\n",
    "\n",
    "plt.subplot(1, 3, 2)\n",
    "plt.plot(K[1:], silhouette_scores, 'bo-')\n",
    "plt.xticks(K[1::2])\n",
    "plt.xlabel('k')\n",
    "plt.ylabel('Silhouette Score')\n",
    "plt.title('Average Silhouette Method')\n",
    "\n",
    "plt.subplot(1, 3, 3)\n",
    "plt.plot(K, strengths, 'bo-')\n",
    "plt.xticks(K[1::2])\n",
    "plt.xlabel(\"k\")\n",
    "plt.ylabel(\"Prediction Strength\")\n",
    "plt.title(\"Prediction Strength Method\")\n",
    "\n",
    "plt.show()"
   ]
  },
  {
   "cell_type": "markdown",
   "id": "aec2f998",
   "metadata": {},
   "source": [
    "I will choose `k = 3` as it is the only value (according to PS method) that keeps clustering stable. Also this value looks like one of possible elbow points (according to Elbow method).\n",
    "This value not produce high average silhouette score, but in my opinion the stability is more valuable then less sparseness for our dataset."
   ]
  },
  {
   "cell_type": "code",
   "execution_count": 25,
   "id": "e84e5504",
   "metadata": {},
   "outputs": [],
   "source": [
    "BEST_K = 3"
   ]
  },
  {
   "cell_type": "markdown",
   "id": "b92b1b71",
   "metadata": {},
   "source": [
    "6. For the previously selected number of clusters, perform the k-means clustering method repeatedly, using the k-means++ method for initial initialization.\n",
    "Choose the best clustering option. What quantitative criterion did you choose to select the best clustering?"
   ]
  },
  {
   "cell_type": "code",
   "execution_count": 26,
   "id": "bd061bb5",
   "metadata": {},
   "outputs": [
    {
     "name": "stdout",
     "output_type": "stream",
     "text": [
      "KMeans(n_clusters=3, random_state=41)\n",
      "Best silhouette score: 0.24412923460191988\n"
     ]
    },
    {
     "data": {
      "text/html": [
       "<div>\n",
       "<style scoped>\n",
       "    .dataframe tbody tr th:only-of-type {\n",
       "        vertical-align: middle;\n",
       "    }\n",
       "\n",
       "    .dataframe tbody tr th {\n",
       "        vertical-align: top;\n",
       "    }\n",
       "\n",
       "    .dataframe thead th {\n",
       "        text-align: right;\n",
       "    }\n",
       "</style>\n",
       "<table border=\"1\" class=\"dataframe\">\n",
       "  <thead>\n",
       "    <tr style=\"text-align: right;\">\n",
       "      <th></th>\n",
       "      <th>Cement</th>\n",
       "      <th>Blast Furnace Slag</th>\n",
       "      <th>Fly Ash</th>\n",
       "      <th>Water</th>\n",
       "      <th>Superplasticizer</th>\n",
       "      <th>Coarse Aggregate</th>\n",
       "      <th>Fine Aggregate</th>\n",
       "      <th>Age</th>\n",
       "    </tr>\n",
       "    <tr>\n",
       "      <th>kmeans_cluster</th>\n",
       "      <th></th>\n",
       "      <th></th>\n",
       "      <th></th>\n",
       "      <th></th>\n",
       "      <th></th>\n",
       "      <th></th>\n",
       "      <th></th>\n",
       "      <th></th>\n",
       "    </tr>\n",
       "  </thead>\n",
       "  <tbody>\n",
       "    <tr>\n",
       "      <th>0</th>\n",
       "      <td>224.551163</td>\n",
       "      <td>11.456395</td>\n",
       "      <td>102.221221</td>\n",
       "      <td>173.568895</td>\n",
       "      <td>7.040407</td>\n",
       "      <td>1016.425581</td>\n",
       "      <td>814.556977</td>\n",
       "      <td>39.095930</td>\n",
       "    </tr>\n",
       "    <tr>\n",
       "      <th>1</th>\n",
       "      <td>399.307164</td>\n",
       "      <td>30.509851</td>\n",
       "      <td>26.037612</td>\n",
       "      <td>182.569851</td>\n",
       "      <td>6.257313</td>\n",
       "      <td>959.255522</td>\n",
       "      <td>758.700597</td>\n",
       "      <td>57.982090</td>\n",
       "    </tr>\n",
       "    <tr>\n",
       "      <th>2</th>\n",
       "      <td>223.901425</td>\n",
       "      <td>176.498291</td>\n",
       "      <td>33.980912</td>\n",
       "      <td>188.449288</td>\n",
       "      <td>5.335328</td>\n",
       "      <td>943.320513</td>\n",
       "      <td>747.622792</td>\n",
       "      <td>40.339031</td>\n",
       "    </tr>\n",
       "  </tbody>\n",
       "</table>\n",
       "</div>"
      ],
      "text/plain": [
       "                    Cement  Blast Furnace Slag     Fly Ash       Water  \\\n",
       "kmeans_cluster                                                           \n",
       "0               224.551163           11.456395  102.221221  173.568895   \n",
       "1               399.307164           30.509851   26.037612  182.569851   \n",
       "2               223.901425          176.498291   33.980912  188.449288   \n",
       "\n",
       "                Superplasticizer  Coarse Aggregate  Fine Aggregate        Age  \n",
       "kmeans_cluster                                                                 \n",
       "0                       7.040407       1016.425581      814.556977  39.095930  \n",
       "1                       6.257313        959.255522      758.700597  57.982090  \n",
       "2                       5.335328        943.320513      747.622792  40.339031  "
      ]
     },
     "execution_count": 26,
     "metadata": {},
     "output_type": "execute_result"
    }
   ],
   "source": [
    "N = 5\n",
    "best_score = -1\n",
    "best_kmeans = None\n",
    "best_labels = None\n",
    "\n",
    "for _ in range(N):\n",
    "    kmeans = KMeans(n_clusters=BEST_K, init='k-means++', random_state=RANDOM_STATE)\n",
    "    labels = kmeans.fit_predict(data)\n",
    "    score = silhouette_score(data, labels)\n",
    "\n",
    "    if score > best_score:\n",
    "        best_score = score\n",
    "        best_kmeans = kmeans\n",
    "        best_labels = labels\n",
    "\n",
    "print(best_kmeans)\n",
    "print(f'Best silhouette score: {best_score}')\n",
    "\n",
    "data_with_clusters = data.copy()\n",
    "data_with_clusters['kmeans_cluster'] = best_labels\n",
    "data_with_clusters.groupby('kmeans_cluster').mean()\n"
   ]
  },
  {
   "cell_type": "markdown",
   "id": "5c2a40f4",
   "metadata": {},
   "source": [
    "7. Using the AgglomerativeClustering function of the scikitlearn library, divide the data set into clusters. Choose the same number of clusters as in the previous method. Output the coordinates of the cluster centers."
   ]
  },
  {
   "cell_type": "code",
   "execution_count": 27,
   "id": "13b512b3",
   "metadata": {},
   "outputs": [
    {
     "data": {
      "text/html": [
       "<div>\n",
       "<style scoped>\n",
       "    .dataframe tbody tr th:only-of-type {\n",
       "        vertical-align: middle;\n",
       "    }\n",
       "\n",
       "    .dataframe tbody tr th {\n",
       "        vertical-align: top;\n",
       "    }\n",
       "\n",
       "    .dataframe thead th {\n",
       "        text-align: right;\n",
       "    }\n",
       "</style>\n",
       "<table border=\"1\" class=\"dataframe\">\n",
       "  <thead>\n",
       "    <tr style=\"text-align: right;\">\n",
       "      <th></th>\n",
       "      <th>Cement</th>\n",
       "      <th>Blast Furnace Slag</th>\n",
       "      <th>Fly Ash</th>\n",
       "      <th>Water</th>\n",
       "      <th>Superplasticizer</th>\n",
       "      <th>Coarse Aggregate</th>\n",
       "      <th>Fine Aggregate</th>\n",
       "      <th>Age</th>\n",
       "      <th>kmeans_cluster</th>\n",
       "    </tr>\n",
       "    <tr>\n",
       "      <th>agglo_cluster</th>\n",
       "      <th></th>\n",
       "      <th></th>\n",
       "      <th></th>\n",
       "      <th></th>\n",
       "      <th></th>\n",
       "      <th></th>\n",
       "      <th></th>\n",
       "      <th></th>\n",
       "      <th></th>\n",
       "    </tr>\n",
       "  </thead>\n",
       "  <tbody>\n",
       "    <tr>\n",
       "      <th>0</th>\n",
       "      <td>405.424000</td>\n",
       "      <td>86.259600</td>\n",
       "      <td>13.604000</td>\n",
       "      <td>181.560000</td>\n",
       "      <td>7.955200</td>\n",
       "      <td>931.853600</td>\n",
       "      <td>742.230400</td>\n",
       "      <td>80.048000</td>\n",
       "      <td>1.284000</td>\n",
       "    </tr>\n",
       "    <tr>\n",
       "      <th>1</th>\n",
       "      <td>200.268182</td>\n",
       "      <td>172.548601</td>\n",
       "      <td>46.626573</td>\n",
       "      <td>188.769231</td>\n",
       "      <td>5.188112</td>\n",
       "      <td>947.677622</td>\n",
       "      <td>748.648252</td>\n",
       "      <td>30.618881</td>\n",
       "      <td>1.926573</td>\n",
       "    </tr>\n",
       "    <tr>\n",
       "      <th>2</th>\n",
       "      <td>265.121862</td>\n",
       "      <td>10.524089</td>\n",
       "      <td>79.104858</td>\n",
       "      <td>177.401417</td>\n",
       "      <td>5.907287</td>\n",
       "      <td>1008.314372</td>\n",
       "      <td>803.880364</td>\n",
       "      <td>36.969636</td>\n",
       "      <td>0.334008</td>\n",
       "    </tr>\n",
       "  </tbody>\n",
       "</table>\n",
       "</div>"
      ],
      "text/plain": [
       "                   Cement  Blast Furnace Slag    Fly Ash       Water  \\\n",
       "agglo_cluster                                                          \n",
       "0              405.424000           86.259600  13.604000  181.560000   \n",
       "1              200.268182          172.548601  46.626573  188.769231   \n",
       "2              265.121862           10.524089  79.104858  177.401417   \n",
       "\n",
       "               Superplasticizer  Coarse Aggregate  Fine Aggregate        Age  \\\n",
       "agglo_cluster                                                                  \n",
       "0                      7.955200        931.853600      742.230400  80.048000   \n",
       "1                      5.188112        947.677622      748.648252  30.618881   \n",
       "2                      5.907287       1008.314372      803.880364  36.969636   \n",
       "\n",
       "               kmeans_cluster  \n",
       "agglo_cluster                  \n",
       "0                    1.284000  \n",
       "1                    1.926573  \n",
       "2                    0.334008  "
      ]
     },
     "execution_count": 27,
     "metadata": {},
     "output_type": "execute_result"
    }
   ],
   "source": [
    "agglo = AgglomerativeClustering(n_clusters=BEST_K)\n",
    "agglo_labels = agglo.fit_predict(data)\n",
    "\n",
    "data_with_clusters['agglo_cluster'] = agglo_labels\n",
    "data_with_clusters.groupby('agglo_cluster').mean()"
   ]
  },
  {
   "cell_type": "markdown",
   "id": "a1a2914a",
   "metadata": {},
   "source": [
    "8. Compare the results of the two used clustering methods."
   ]
  },
  {
   "cell_type": "code",
   "execution_count": 28,
   "id": "d78e7490",
   "metadata": {},
   "outputs": [
    {
     "name": "stdout",
     "output_type": "stream",
     "text": [
      "KMeans silhouette score: 0.24412923460191988\n",
      " Agglo silhouette score: 0.23399705827162526\n"
     ]
    },
    {
     "data": {
      "image/png": "[encoded data removed]",
      "text/plain": [
       "<Figure size 1000x600 with 2 Axes>"
      ]
     },
     "metadata": {},
     "output_type": "display_data"
    }
   ],
   "source": [
    "agglo_score = silhouette_score(data, agglo_labels)\n",
    "\n",
    "print(f'KMeans silhouette score: {best_score}')\n",
    "print(f' Agglo silhouette score: {agglo_score}')\n",
    "\n",
    "import seaborn as sns\n",
    "import numpy as np\n",
    "\n",
    "counts = data_with_clusters.groupby(['kmeans_cluster', 'agglo_cluster']).count()['Cement']\n",
    "cluster_matrix = np.reshape(counts, (BEST_K, BEST_K))\n",
    "\n",
    "plt.figure(figsize=(10, 6))\n",
    "sns.heatmap(cluster_matrix, annot=True, fmt=\"d\", cmap=\"Blues\")\n",
    "plt.title(\"Clusters matrix\")\n",
    "plt.xlabel(\"Agglomerative\")\n",
    "plt.ylabel(\"KMeans\")\n",
    "plt.show()"
   ]
  }
 ],
 "metadata": {
  "kernelspec": {
   "display_name": "Python 3",
   "language": "python",
   "name": "python3"
  },
  "language_info": {
   "codemirror_mode": {
    "name": "ipython",
    "version": 3
   },
   "file_extension": ".py",
   "mimetype": "text/x-python",
   "name": "python",
   "nbconvert_exporter": "python",
   "pygments_lexer": "ipython3",
   "version": "3.13.3"
  }
 },
 "nbformat": 4,
 "nbformat_minor": 5
}
